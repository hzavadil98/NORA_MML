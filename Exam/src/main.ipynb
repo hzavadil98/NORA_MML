{
 "cells": [
  {
   "cell_type": "code",
   "execution_count": 1,
   "id": "d01c084a",
   "metadata": {},
   "outputs": [
    {
     "name": "stderr",
     "output_type": "stream",
     "text": [
      "Seed set to 42\n"
     ]
    },
    {
     "data": {
      "text/plain": [
       "42"
      ]
     },
     "execution_count": 1,
     "metadata": {},
     "output_type": "execute_result"
    }
   ],
   "source": [
    "import numpy as np\n",
    "import matplotlib.pyplot as plt\n",
    "import torch\n",
    "import pytorch_lightning as pl\n",
    "import torchvision.transforms.v2 as T\n",
    "from pathlib import Path\n",
    "from image_model import Image_Dataloader, Image_Model\n",
    "from audio_model import Audio_Dataloader, Audio_Model\n",
    "from pytorch_lightning.loggers import WandbLogger\n",
    "\n",
    "pl.seed_everything(42)\n"
   ]
  },
  {
   "cell_type": "markdown",
   "id": "daa0aef1",
   "metadata": {},
   "source": [
    "# Initialize dataloaders and individual modality models"
   ]
  },
  {
   "cell_type": "code",
   "execution_count": 2,
   "id": "cace595f",
   "metadata": {},
   "outputs": [],
   "source": [
    "path_to_data = Path(\"../../data/\")\n",
    "\n",
    "image_dataloader = Image_Dataloader(path_to_data=path_to_data)\n",
    "audio_dataloader = Audio_Dataloader(path_to_data=path_to_data)\n",
    "\n",
    "image_model = Image_Model(num_classes=10)\n",
    "audio_model = Audio_Model(num_classes=10)"
   ]
  },
  {
   "cell_type": "markdown",
   "id": "d5100432",
   "metadata": {},
   "source": [
    "# Train Image only model"
   ]
  },
  {
   "cell_type": "code",
   "execution_count": 3,
   "id": "dc17ed02",
   "metadata": {},
   "outputs": [],
   "source": [
    "# initialize logger and callbacks\n",
    "wandb_logger = WandbLogger(project=\"NORA_MML_Exam\", name=\"Image_Only_Model\", log_model=True)\n",
    "\n",
    "checkpoint_callback = pl.callbacks.ModelCheckpoint(dirpath=\"checkpoints\", filename=\"image_model-{epoch:02d}-{val_loss:.2f}\", monitor=\"val_loss\", mode=\"min\", save_top_k=1)\n",
    "\n",
    "early_stopping_callback = pl.callbacks.EarlyStopping(monitor=\"val_loss\", patience=5, mode=\"min\")"
   ]
  },
  {
   "cell_type": "code",
   "execution_count": 7,
   "id": "f9d5e6c8",
   "metadata": {},
   "outputs": [
    {
     "name": "stderr",
     "output_type": "stream",
     "text": [
      "GPU available: True (mps), used: True\n",
      "TPU available: False, using: 0 TPU cores\n",
      "HPU available: False, using: 0 HPUs\n"
     ]
    }
   ],
   "source": [
    "# initialize trainer\n",
    "trainer = pl.Trainer(max_epochs=30, accelerator=\"mps\", devices=1, logger=wandb_logger, callbacks=[checkpoint_callback, early_stopping_callback])"
   ]
  },
  {
   "cell_type": "code",
   "execution_count": 8,
   "id": "695182e2",
   "metadata": {},
   "outputs": [
    {
     "name": "stderr",
     "output_type": "stream",
     "text": [
      "/Users/jazav7774/Library/CloudStorage/OneDrive-UiTOffice365/UiT/NORA_MML/.venv/lib/python3.12/site-packages/pytorch_lightning/callbacks/model_checkpoint.py:658: Checkpoint directory /Users/jazav7774/Library/CloudStorage/OneDrive-UiTOffice365/UiT/NORA_MML/Exam/src/checkpoints exists and is not empty.\n",
      "\n",
      "  | Name             | Type                      | Params | Mode \n",
      "-----------------------------------------------------------------------\n",
      "0 | loss             | CrossEntropyLoss          | 0      | train\n",
      "1 | accuracy         | MulticlassAccuracy        | 0      | train\n",
      "2 | confusion_matrix | MulticlassConfusionMatrix | 0      | train\n",
      "3 | model            | Sequential                | 225 K  | train\n",
      "-----------------------------------------------------------------------\n",
      "225 K     Trainable params\n",
      "0         Non-trainable params\n",
      "225 K     Total params\n",
      "0.900     Total estimated model params size (MB)\n",
      "16        Modules in train mode\n",
      "0         Modules in eval mode\n"
     ]
    },
    {
     "data": {
      "application/vnd.jupyter.widget-view+json": {
       "model_id": "00369ef25ffd45d588d5791b76f8d44f",
       "version_major": 2,
       "version_minor": 0
      },
      "text/plain": [
       "Sanity Checking: |          | 0/? [00:00<?, ?it/s]"
      ]
     },
     "metadata": {},
     "output_type": "display_data"
    },
    {
     "data": {
      "application/vnd.jupyter.widget-view+json": {
       "model_id": "7afee100f573429fb1551feacc127ad2",
       "version_major": 2,
       "version_minor": 0
      },
      "text/plain": [
       "Training: |          | 0/? [00:00<?, ?it/s]"
      ]
     },
     "metadata": {},
     "output_type": "display_data"
    },
    {
     "data": {
      "application/vnd.jupyter.widget-view+json": {
       "model_id": "a479cda73c9147328cd91d011af1c858",
       "version_major": 2,
       "version_minor": 0
      },
      "text/plain": [
       "Validation: |          | 0/? [00:00<?, ?it/s]"
      ]
     },
     "metadata": {},
     "output_type": "display_data"
    },
    {
     "data": {
      "application/vnd.jupyter.widget-view+json": {
       "model_id": "63b1b0743db044b48de8ab4020aa93cb",
       "version_major": 2,
       "version_minor": 0
      },
      "text/plain": [
       "Validation: |          | 0/? [00:00<?, ?it/s]"
      ]
     },
     "metadata": {},
     "output_type": "display_data"
    },
    {
     "data": {
      "application/vnd.jupyter.widget-view+json": {
       "model_id": "db2d1025917b47599dab79378794015f",
       "version_major": 2,
       "version_minor": 0
      },
      "text/plain": [
       "Validation: |          | 0/? [00:00<?, ?it/s]"
      ]
     },
     "metadata": {},
     "output_type": "display_data"
    },
    {
     "data": {
      "application/vnd.jupyter.widget-view+json": {
       "model_id": "b020b8fc770c431b8d95210047daf118",
       "version_major": 2,
       "version_minor": 0
      },
      "text/plain": [
       "Validation: |          | 0/? [00:00<?, ?it/s]"
      ]
     },
     "metadata": {},
     "output_type": "display_data"
    },
    {
     "data": {
      "application/vnd.jupyter.widget-view+json": {
       "model_id": "a47ab6ffda924ba19307f1b845863dbb",
       "version_major": 2,
       "version_minor": 0
      },
      "text/plain": [
       "Validation: |          | 0/? [00:00<?, ?it/s]"
      ]
     },
     "metadata": {},
     "output_type": "display_data"
    },
    {
     "data": {
      "application/vnd.jupyter.widget-view+json": {
       "model_id": "e9289a4e49484e1c92f2264c5cfb2903",
       "version_major": 2,
       "version_minor": 0
      },
      "text/plain": [
       "Validation: |          | 0/? [00:00<?, ?it/s]"
      ]
     },
     "metadata": {},
     "output_type": "display_data"
    },
    {
     "data": {
      "application/vnd.jupyter.widget-view+json": {
       "model_id": "7af291c394ac4bf7a0e9fc21df37f561",
       "version_major": 2,
       "version_minor": 0
      },
      "text/plain": [
       "Validation: |          | 0/? [00:00<?, ?it/s]"
      ]
     },
     "metadata": {},
     "output_type": "display_data"
    },
    {
     "data": {
      "application/vnd.jupyter.widget-view+json": {
       "model_id": "bf2ea2d08a2a4a69ab2e0e51595859b1",
       "version_major": 2,
       "version_minor": 0
      },
      "text/plain": [
       "Validation: |          | 0/? [00:00<?, ?it/s]"
      ]
     },
     "metadata": {},
     "output_type": "display_data"
    },
    {
     "data": {
      "application/vnd.jupyter.widget-view+json": {
       "model_id": "f8249503b0b54f2b85fca8af6f4e4727",
       "version_major": 2,
       "version_minor": 0
      },
      "text/plain": [
       "Validation: |          | 0/? [00:00<?, ?it/s]"
      ]
     },
     "metadata": {},
     "output_type": "display_data"
    },
    {
     "data": {
      "application/vnd.jupyter.widget-view+json": {
       "model_id": "1d56e1937f8d4852b73e9e4a203f1c42",
       "version_major": 2,
       "version_minor": 0
      },
      "text/plain": [
       "Validation: |          | 0/? [00:00<?, ?it/s]"
      ]
     },
     "metadata": {},
     "output_type": "display_data"
    },
    {
     "data": {
      "application/vnd.jupyter.widget-view+json": {
       "model_id": "3858549e502f4af8af4c0392e2992476",
       "version_major": 2,
       "version_minor": 0
      },
      "text/plain": [
       "Validation: |          | 0/? [00:00<?, ?it/s]"
      ]
     },
     "metadata": {},
     "output_type": "display_data"
    },
    {
     "data": {
      "application/vnd.jupyter.widget-view+json": {
       "model_id": "d224c56d10e944dc8982f177634f2a95",
       "version_major": 2,
       "version_minor": 0
      },
      "text/plain": [
       "Validation: |          | 0/? [00:00<?, ?it/s]"
      ]
     },
     "metadata": {},
     "output_type": "display_data"
    },
    {
     "data": {
      "application/vnd.jupyter.widget-view+json": {
       "model_id": "08b6c486712b4594a9320d34b67541af",
       "version_major": 2,
       "version_minor": 0
      },
      "text/plain": [
       "Validation: |          | 0/? [00:00<?, ?it/s]"
      ]
     },
     "metadata": {},
     "output_type": "display_data"
    },
    {
     "data": {
      "application/vnd.jupyter.widget-view+json": {
       "model_id": "528b1af0b8c9459e9d3329e7035f2087",
       "version_major": 2,
       "version_minor": 0
      },
      "text/plain": [
       "Validation: |          | 0/? [00:00<?, ?it/s]"
      ]
     },
     "metadata": {},
     "output_type": "display_data"
    },
    {
     "data": {
      "application/vnd.jupyter.widget-view+json": {
       "model_id": "5e0f453911774a4d8dc1bed6303d8e80",
       "version_major": 2,
       "version_minor": 0
      },
      "text/plain": [
       "Validation: |          | 0/? [00:00<?, ?it/s]"
      ]
     },
     "metadata": {},
     "output_type": "display_data"
    },
    {
     "data": {
      "application/vnd.jupyter.widget-view+json": {
       "model_id": "0bffa8b4e84b44f5b5f1255bc15a8008",
       "version_major": 2,
       "version_minor": 0
      },
      "text/plain": [
       "Validation: |          | 0/? [00:00<?, ?it/s]"
      ]
     },
     "metadata": {},
     "output_type": "display_data"
    }
   ],
   "source": [
    "# Train the model\n",
    "trainer.fit(image_model, image_dataloader)"
   ]
  },
  {
   "cell_type": "code",
   "execution_count": 9,
   "id": "eee56a54",
   "metadata": {},
   "outputs": [
    {
     "data": {
      "application/vnd.jupyter.widget-view+json": {
       "model_id": "d055b9ea20824f61a6035c8659c037dc",
       "version_major": 2,
       "version_minor": 0
      },
      "text/plain": [
       "Testing: |          | 0/? [00:00<?, ?it/s]"
      ]
     },
     "metadata": {},
     "output_type": "display_data"
    },
    {
     "name": "stdout",
     "output_type": "stream",
     "text": [
      "────────────────────────────────────────────────────────────────────────────────────────────────────────────────────────\n",
      "       Test metric             DataLoader 0\n",
      "────────────────────────────────────────────────────────────────────────────────────────────────────────────────────────\n",
      "      test_accuracy          0.882915198802948\n",
      "        test_loss           0.5318756103515625\n",
      "────────────────────────────────────────────────────────────────────────────────────────────────────────────────────────\n"
     ]
    },
    {
     "data": {
      "text/plain": [
       "[{'test_loss': 0.5318756103515625, 'test_accuracy': 0.882915198802948}]"
      ]
     },
     "execution_count": 9,
     "metadata": {},
     "output_type": "execute_result"
    }
   ],
   "source": [
    "# Test the model\n",
    "image_model = Image_Model.load_from_checkpoint(checkpoint_callback.best_model_path)\n",
    "\n",
    "trainer.test(image_model, image_dataloader)"
   ]
  },
  {
   "cell_type": "markdown",
   "id": "7ae4d8e1",
   "metadata": {},
   "source": [
    "# Train Audio only model"
   ]
  },
  {
   "cell_type": "code",
   "execution_count": 3,
   "id": "eab783fe",
   "metadata": {},
   "outputs": [],
   "source": [
    "# initialize logger and callbacks\n",
    "wandb_logger = WandbLogger(project=\"NORA_MML_Exam\", name=\"Audio_Only_Model\", log_model=True)\n",
    "\n",
    "checkpoint_callback = pl.callbacks.ModelCheckpoint(dirpath=\"checkpoints\", filename=\"audio_model-{epoch:02d}-{val_loss:.2f}\", monitor=\"val_loss\", mode=\"min\", save_top_k=1)\n",
    "\n",
    "early_stopping_callback = pl.callbacks.EarlyStopping(monitor=\"val_loss\", patience=5, mode=\"min\")"
   ]
  },
  {
   "cell_type": "code",
   "execution_count": 4,
   "id": "3b40e25c",
   "metadata": {},
   "outputs": [
    {
     "name": "stderr",
     "output_type": "stream",
     "text": [
      "GPU available: True (mps), used: True\n",
      "TPU available: False, using: 0 TPU cores\n",
      "HPU available: False, using: 0 HPUs\n"
     ]
    }
   ],
   "source": [
    "# initialize trainer\n",
    "trainer = pl.Trainer(max_epochs=15, accelerator=\"mps\", devices=1, logger=wandb_logger, callbacks=[checkpoint_callback, early_stopping_callback])"
   ]
  },
  {
   "cell_type": "code",
   "execution_count": null,
   "id": "a1239896",
   "metadata": {},
   "outputs": [
    {
     "name": "stderr",
     "output_type": "stream",
     "text": [
      "\u001b[34m\u001b[1mwandb\u001b[0m: Currently logged in as: \u001b[33mhzavadil98\u001b[0m to \u001b[32mhttps://api.wandb.ai\u001b[0m. Use \u001b[1m`wandb login --relogin`\u001b[0m to force relogin\n"
     ]
    },
    {
     "data": {
      "text/html": [
       "Tracking run with wandb version 0.21.0"
      ],
      "text/plain": [
       "<IPython.core.display.HTML object>"
      ]
     },
     "metadata": {},
     "output_type": "display_data"
    },
    {
     "data": {
      "text/html": [
       "Run data is saved locally in <code>./wandb/run-20250704_123227-gl0gzixj</code>"
      ],
      "text/plain": [
       "<IPython.core.display.HTML object>"
      ]
     },
     "metadata": {},
     "output_type": "display_data"
    },
    {
     "data": {
      "text/html": [
       "Syncing run <strong><a href='https://wandb.ai/hzavadil98/NORA_MML_Exam/runs/gl0gzixj' target=\"_blank\">Audio_Only_Model</a></strong> to <a href='https://wandb.ai/hzavadil98/NORA_MML_Exam' target=\"_blank\">Weights & Biases</a> (<a href='https://wandb.me/developer-guide' target=\"_blank\">docs</a>)<br>"
      ],
      "text/plain": [
       "<IPython.core.display.HTML object>"
      ]
     },
     "metadata": {},
     "output_type": "display_data"
    },
    {
     "data": {
      "text/html": [
       " View project at <a href='https://wandb.ai/hzavadil98/NORA_MML_Exam' target=\"_blank\">https://wandb.ai/hzavadil98/NORA_MML_Exam</a>"
      ],
      "text/plain": [
       "<IPython.core.display.HTML object>"
      ]
     },
     "metadata": {},
     "output_type": "display_data"
    },
    {
     "data": {
      "text/html": [
       " View run at <a href='https://wandb.ai/hzavadil98/NORA_MML_Exam/runs/gl0gzixj' target=\"_blank\">https://wandb.ai/hzavadil98/NORA_MML_Exam/runs/gl0gzixj</a>"
      ],
      "text/plain": [
       "<IPython.core.display.HTML object>"
      ]
     },
     "metadata": {},
     "output_type": "display_data"
    },
    {
     "name": "stderr",
     "output_type": "stream",
     "text": [
      "/Users/jazav7774/Library/CloudStorage/OneDrive-UiTOffice365/UiT/NORA_MML/.venv/lib/python3.12/site-packages/pytorch_lightning/callbacks/model_checkpoint.py:658: Checkpoint directory /Users/jazav7774/Library/CloudStorage/OneDrive-UiTOffice365/UiT/NORA_MML/Exam/src/checkpoints exists and is not empty.\n",
      "\n",
      "  | Name             | Type                      | Params | Mode \n",
      "-----------------------------------------------------------------------\n",
      "0 | loss             | CrossEntropyLoss          | 0      | train\n",
      "1 | accuracy         | MulticlassAccuracy        | 0      | train\n",
      "2 | confusion_matrix | MulticlassConfusionMatrix | 0      | train\n",
      "3 | featurizer       | Sequential                | 241 K  | train\n",
      "4 | classifier       | Sequential                | 4.5 K  | train\n",
      "-----------------------------------------------------------------------\n",
      "246 K     Trainable params\n",
      "0         Non-trainable params\n",
      "246 K     Total params\n",
      "0.985     Total estimated model params size (MB)\n",
      "39        Modules in train mode\n",
      "0         Modules in eval mode\n"
     ]
    },
    {
     "data": {
      "application/vnd.jupyter.widget-view+json": {
       "model_id": "6c0f832b4946436eaadfde95f5a31ab1",
       "version_major": 2,
       "version_minor": 0
      },
      "text/plain": [
       "Sanity Checking: |          | 0/? [00:00<?, ?it/s]"
      ]
     },
     "metadata": {},
     "output_type": "display_data"
    },
    {
     "data": {
      "application/vnd.jupyter.widget-view+json": {
       "model_id": "c1eb6da0d7784d1d9adb18c0255e8be2",
       "version_major": 2,
       "version_minor": 0
      },
      "text/plain": [
       "Training: |          | 0/? [00:00<?, ?it/s]"
      ]
     },
     "metadata": {},
     "output_type": "display_data"
    }
   ],
   "source": [
    "# Train the model\n",
    "trainer.fit(audio_model, audio_dataloader)"
   ]
  },
  {
   "cell_type": "code",
   "execution_count": null,
   "id": "b4820ada",
   "metadata": {},
   "outputs": [],
   "source": [
    "# Reload the audio_model module after fixing the dimension mismatch\n",
    "import importlib\n",
    "import sys\n",
    "\n",
    "# Remove the audio_model from cache to ensure fresh import\n",
    "if 'audio_model' in sys.modules:\n",
    "    del sys.modules['audio_model']\n",
    "\n",
    "# Import fresh version\n",
    "from audio_model import Audio_Model, Audio_Dataloader\n",
    "importlib.reload(sys.modules['audio_model'])\n",
    "\n",
    "# Recreate the audio model with the fixed architecture\n",
    "audio_model = Audio_Model(num_classes=10)\n",
    "print(\"Audio model reloaded successfully with fixed architecture\")"
   ]
  },
  {
   "cell_type": "code",
   "execution_count": null,
   "id": "1f09e35e",
   "metadata": {},
   "outputs": [
    {
     "name": "stderr",
     "output_type": "stream",
     "text": [
      "/Users/jazav7774/Library/CloudStorage/OneDrive-UiTOffice365/UiT/NORA_MML/.venv/lib/python3.12/site-packages/pytorch_lightning/trainer/connectors/data_connector.py:420: Consider setting `persistent_workers=True` in 'test_dataloader' to speed up the dataloader worker initialization.\n"
     ]
    },
    {
     "data": {
      "application/vnd.jupyter.widget-view+json": {
       "model_id": "e675c7f387ae45bbb5e9912d5e914e2c",
       "version_major": 2,
       "version_minor": 0
      },
      "text/plain": [
       "Testing: |          | 0/? [00:00<?, ?it/s]"
      ]
     },
     "metadata": {},
     "output_type": "display_data"
    },
    {
     "name": "stdout",
     "output_type": "stream",
     "text": [
      "────────────────────────────────────────────────────────────────────────────────────────────────────────────────────────\n",
      "       Test metric             DataLoader 0\n",
      "────────────────────────────────────────────────────────────────────────────────────────────────────────────────────────\n",
      "   test_accuracy_epoch      0.8641406297683716\n",
      "     test_loss_epoch        0.44109928607940674\n",
      "────────────────────────────────────────────────────────────────────────────────────────────────────────────────────────\n"
     ]
    },
    {
     "data": {
      "text/plain": [
       "[{'test_loss_epoch': 0.44109928607940674,\n",
       "  'test_accuracy_epoch': 0.8641406297683716}]"
      ]
     },
     "metadata": {},
     "output_type": "display_data"
    }
   ],
   "source": [
    "# Test the model\n",
    "audio_model = Audio_Model.load_from_checkpoint(checkpoint_callback.best_model_path)\n",
    "\n",
    "trainer.test(audio_model, audio_dataloader)"
   ]
  },
  {
   "cell_type": "code",
   "execution_count": null,
   "id": "e8d30d44",
   "metadata": {},
   "outputs": [],
   "source": []
  },
  {
   "cell_type": "code",
   "execution_count": 13,
   "id": "fe59bb46",
   "metadata": {},
   "outputs": [],
   "source": [
    "tr_dat = audio_dataloader.train_dataloader()"
   ]
  },
  {
   "cell_type": "code",
   "execution_count": 14,
   "id": "7b927a18",
   "metadata": {},
   "outputs": [],
   "source": [
    "batch = next(iter(tr_dat))"
   ]
  },
  {
   "cell_type": "code",
   "execution_count": 15,
   "id": "75e9e12e",
   "metadata": {},
   "outputs": [
    {
     "data": {
      "text/plain": [
       "(torch.Size([32, 1, 8000]), torch.Size([32]))"
      ]
     },
     "execution_count": 15,
     "metadata": {},
     "output_type": "execute_result"
    }
   ],
   "source": [
    "batch[0].shape, batch[1].shape"
   ]
  },
  {
   "cell_type": "code",
   "execution_count": 12,
   "id": "13f1cbfd",
   "metadata": {},
   "outputs": [
    {
     "data": {
      "text/plain": [
       "[<matplotlib.lines.Line2D at 0x1776e3920>]"
      ]
     },
     "execution_count": 12,
     "metadata": {},
     "output_type": "execute_result"
    },
    {
     "data": {
      "image/png": "[encoded data removed]",
      "text/plain": [
       "<Figure size 640x480 with 1 Axes>"
      ]
     },
     "metadata": {},
     "output_type": "display_data"
    }
   ],
   "source": [
    "plt.plot(batch[0][0].numpy().T)"
   ]
  }
 ],
 "metadata": {
  "kernelspec": {
   "display_name": "nora-mml",
   "language": "python",
   "name": "python3"
  },
  "language_info": {
   "codemirror_mode": {
    "name": "ipython",
    "version": 3
   },
   "file_extension": ".py",
   "mimetype": "text/x-python",
   "name": "python",
   "nbconvert_exporter": "python",
   "pygments_lexer": "ipython3",
   "version": "3.12.7"
  }
 },
 "nbformat": 4,
 "nbformat_minor": 5
}
